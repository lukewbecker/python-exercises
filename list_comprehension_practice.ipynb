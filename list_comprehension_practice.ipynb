{
 "cells": [
  {
   "cell_type": "code",
   "execution_count": 1,
   "metadata": {},
   "outputs": [],
   "source": [
    "# list comphrension practice"
   ]
  },
  {
   "cell_type": "code",
   "execution_count": 7,
   "metadata": {},
   "outputs": [
    {
     "data": {
      "text/plain": [
       "[1,\n",
       " 2,\n",
       " 3,\n",
       " 4,\n",
       " 25,\n",
       " 6,\n",
       " 7,\n",
       " 8,\n",
       " 9,\n",
       " 50,\n",
       " 11,\n",
       " 12,\n",
       " 13,\n",
       " 14,\n",
       " 75,\n",
       " 16,\n",
       " 17,\n",
       " 18,\n",
       " 19,\n",
       " 100,\n",
       " 21,\n",
       " 22,\n",
       " 23,\n",
       " 24,\n",
       " 125,\n",
       " 26,\n",
       " 27,\n",
       " 28,\n",
       " 29,\n",
       " 150,\n",
       " 31,\n",
       " 32,\n",
       " 33,\n",
       " 34,\n",
       " 175,\n",
       " 36,\n",
       " 37,\n",
       " 38,\n",
       " 39,\n",
       " 200,\n",
       " 41,\n",
       " 42,\n",
       " 43,\n",
       " 44,\n",
       " 225,\n",
       " 46,\n",
       " 47,\n",
       " 48,\n",
       " 49,\n",
       " 250,\n",
       " 51,\n",
       " 52,\n",
       " 53,\n",
       " 54,\n",
       " 275,\n",
       " 56,\n",
       " 57,\n",
       " 58,\n",
       " 59,\n",
       " 300,\n",
       " 61,\n",
       " 62,\n",
       " 63,\n",
       " 64,\n",
       " 325,\n",
       " 66,\n",
       " 67,\n",
       " 68,\n",
       " 69,\n",
       " 350,\n",
       " 71,\n",
       " 72,\n",
       " 73,\n",
       " 74,\n",
       " 375,\n",
       " 76,\n",
       " 77,\n",
       " 78,\n",
       " 79,\n",
       " 400,\n",
       " 81,\n",
       " 82,\n",
       " 83,\n",
       " 84,\n",
       " 425,\n",
       " 86,\n",
       " 87,\n",
       " 88,\n",
       " 89,\n",
       " 450,\n",
       " 91,\n",
       " 92,\n",
       " 93,\n",
       " 94,\n",
       " 475,\n",
       " 96,\n",
       " 97,\n",
       " 98,\n",
       " 99,\n",
       " 500]"
      ]
     },
     "execution_count": 7,
     "metadata": {},
     "output_type": "execute_result"
    }
   ],
   "source": [
    "[n * 5 if n % 5 == 0 else n for n in range(1, 101)]"
   ]
  },
  {
   "cell_type": "code",
   "execution_count": 1,
   "metadata": {},
   "outputs": [],
   "source": [
    "# More practice here"
   ]
  },
  {
   "cell_type": "code",
   "execution_count": null,
   "metadata": {},
   "outputs": [],
   "source": []
  }
 ],
 "metadata": {
  "kernelspec": {
   "display_name": "Python 3",
   "language": "python",
   "name": "python3"
  },
  "language_info": {
   "codemirror_mode": {
    "name": "ipython",
    "version": 3
   },
   "file_extension": ".py",
   "mimetype": "text/x-python",
   "name": "python",
   "nbconvert_exporter": "python",
   "pygments_lexer": "ipython3",
   "version": "3.7.6"
  }
 },
 "nbformat": 4,
 "nbformat_minor": 4
}
