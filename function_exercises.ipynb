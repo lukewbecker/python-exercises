{
 "cells": [
  {
   "cell_type": "markdown",
   "metadata": {},
   "source": [
    "### Lesson Practice"
   ]
  },
  {
   "cell_type": "code",
   "execution_count": null,
   "metadata": {},
   "outputs": [],
   "source": []
  },
  {
   "cell_type": "code",
   "execution_count": 4,
   "metadata": {},
   "outputs": [
    {
     "name": "stdout",
     "output_type": "stream",
     "text": [
      "6\n"
     ]
    }
   ],
   "source": [
    "x = increment(increment(increment(3)))\n",
    "print(x)"
   ]
  },
  {
   "cell_type": "code",
   "execution_count": 6,
   "metadata": {},
   "outputs": [
    {
     "data": {
      "text/plain": [
       "4"
      ]
     },
     "execution_count": 6,
     "metadata": {},
     "output_type": "execute_result"
    }
   ],
   "source": [
    "def increment(n):\n",
    "    return n + 1\n",
    "    return n + 1\n",
    "    print('You will never see this')\n",
    "\n",
    "\n",
    "increment(3)\n",
    "\n",
    "# So return in a function is like continue in a loop?"
   ]
  },
  {
   "cell_type": "code",
   "execution_count": 8,
   "metadata": {},
   "outputs": [
    {
     "name": "stdout",
     "output_type": "stream",
     "text": [
      "7\n"
     ]
    }
   ],
   "source": [
    "yada_yada = increment(increment(increment(4)))\n",
    "print(yada_yada)"
   ]
  },
  {
   "cell_type": "code",
   "execution_count": 9,
   "metadata": {},
   "outputs": [
    {
     "data": {
      "text/plain": [
       "7"
      ]
     },
     "execution_count": 9,
     "metadata": {},
     "output_type": "execute_result"
    }
   ],
   "source": [
    "yada_yada"
   ]
  },
  {
   "cell_type": "code",
   "execution_count": 10,
   "metadata": {},
   "outputs": [
    {
     "data": {
      "text/plain": [
       "6"
      ]
     },
     "execution_count": 10,
     "metadata": {},
     "output_type": "execute_result"
    }
   ],
   "source": [
    "increment(5)"
   ]
  },
  {
   "cell_type": "code",
   "execution_count": 17,
   "metadata": {},
   "outputs": [],
   "source": [
    "def sayhello(name='World', greeting='Hello'):\n",
    "    return '{}, {}!'.format(greeting, name)"
   ]
  },
  {
   "cell_type": "code",
   "execution_count": 19,
   "metadata": {},
   "outputs": [
    {
     "data": {
      "text/plain": [
       "'name, greeting!'"
      ]
     },
     "execution_count": 19,
     "metadata": {},
     "output_type": "execute_result"
    }
   ],
   "source": [
    "kwargs = {'greeting': 'Salutations', 'name': 'Codeup'}\n",
    "\n",
    "sayhello(*kwargs)"
   ]
  },
  {
   "cell_type": "code",
   "execution_count": null,
   "metadata": {},
   "outputs": [],
   "source": []
  },
  {
   "cell_type": "markdown",
   "metadata": {},
   "source": [
    "### Function Exercises\n",
    "\n",
    "- Create a file named function_exercises.py for this exercise. After creating each function specified below, write the necessary code in order to test your function"
   ]
  },
  {
   "cell_type": "code",
   "execution_count": 1,
   "metadata": {},
   "outputs": [
    {
     "name": "stdout",
     "output_type": "stream",
     "text": [
      "Exercise is correct\n"
     ]
    }
   ],
   "source": [
    "# Define a function named is_two. It should accept one input and return True if the \n",
    "# passed input is either the number or the string 2, False otherwise.\n",
    "\n",
    "def is_two(x):\n",
    "    if type(x) == str or type(x) == int or type(x) == float:\n",
    "        return True\n",
    "    else:\n",
    "        return False\n",
    "    \n",
    "assert is_two(2) == True\n",
    "assert is_two(\"2\") == True\n",
    "assert is_two(2.0) == True\n",
    "assert is_two(True) == False\n",
    "print(\"Exercise is correct\")"
   ]
  },
  {
   "cell_type": "code",
   "execution_count": 3,
   "metadata": {},
   "outputs": [
    {
     "name": "stdout",
     "output_type": "stream",
     "text": [
      "Exercise is correct\n"
     ]
    }
   ],
   "source": [
    "# Define a function named is_vowel. It should return True if the passed string is a vowel, False otherwise.\n",
    "\n",
    "def is_vowel(value):\n",
    "    vowels = [\"a\", \"e\", \"i\", \"o\", \"u\"]\n",
    "    assert type(value) == str, \"Input must be a string\"\n",
    "    if value.lower() in vowels:\n",
    "        return True\n",
    "    else:\n",
    "        return False\n",
    "\n",
    "assert is_vowel(\"A\") == True\n",
    "assert is_vowel(\"V\") == False\n",
    "print(\"Exercise is correct\")"
   ]
  },
  {
   "cell_type": "code",
   "execution_count": 76,
   "metadata": {},
   "outputs": [
    {
     "data": {
      "text/plain": [
       "True"
      ]
     },
     "execution_count": 76,
     "metadata": {},
     "output_type": "execute_result"
    }
   ],
   "source": [
    "is_vowel(\"A\")"
   ]
  },
  {
   "cell_type": "code",
   "execution_count": 90,
   "metadata": {},
   "outputs": [
    {
     "name": "stdout",
     "output_type": "stream",
     "text": [
      "Exercise is correct\n"
     ]
    }
   ],
   "source": [
    "# Define a function named is_consonant. It should return True if the passed string is a consonant, False otherwise. \n",
    "# Use your is_vowel function to accomplish this.\n",
    "\n",
    "def is_consonant(value):\n",
    "    are_vowels = [\"a\", \"e\", \"i\", \"o\", \"u\"]\n",
    "    assert type(value) == str, \"Input must be a string\"\n",
    "    if value.lower() not in are_vowels:\n",
    "        return True\n",
    "    else:\n",
    "        return False\n",
    "    \n",
    "assert is_consonant(\"A\") == False\n",
    "assert is_consonant(\"V\") == True\n",
    "print(\"Exercise is correct\")"
   ]
  },
  {
   "cell_type": "code",
   "execution_count": 91,
   "metadata": {},
   "outputs": [
    {
     "data": {
      "text/plain": [
       "False"
      ]
     },
     "execution_count": 91,
     "metadata": {},
     "output_type": "execute_result"
    }
   ],
   "source": [
    "is_consonant(\"a\")"
   ]
  },
  {
   "cell_type": "code",
   "execution_count": 102,
   "metadata": {},
   "outputs": [
    {
     "name": "stdout",
     "output_type": "stream",
     "text": [
      "Exercise is correct\n"
     ]
    }
   ],
   "source": [
    "# Define a function that accepts a string that is a word. The function should \n",
    "# capitalize the first letter of the word if the word starts with a consonant.\n",
    "\n",
    "\n",
    "# My breakdown of the logic of the problem:\n",
    "    # does value start with a consonant? [step 1]\n",
    "        # Have to figure out the 'not in' of a list of vowels...\n",
    "    # if so, then capitalize it\n",
    "    # if not, then return 'value'\n",
    "    # For example, this function would capitalize the string \"Banana\", while the string \"apple\" it would not.\n",
    "\n",
    "def string_word(value):\n",
    "    vowel_list = [\"a\", \"e\", \"i\", \"o\", \"u\"]\n",
    "    if value[0] not in vowel_list:\n",
    "        return value.capitalize()\n",
    "    else:\n",
    "        return value\n",
    "\n",
    "assert string_word(\"apple\") == \"apple\"\n",
    "assert string_word(\"banana\") == \"Banana\"\n",
    "print(\"Exercise is correct\") "
   ]
  },
  {
   "cell_type": "code",
   "execution_count": 332,
   "metadata": {},
   "outputs": [
    {
     "name": "stdout",
     "output_type": "stream",
     "text": [
      "Exercise is correct\n"
     ]
    }
   ],
   "source": [
    "# Define a function named calculate_tip. It should accept a tip percentage \n",
    "# (a number between 0 and 1) and the bill total, and return the amount to tip.\n",
    "\n",
    "def calculate_tip(bill, tips): # Added two parameters to function definition, since problem asked for two entries\n",
    "    assert type(bill) == float, \"Please use a float\"  # Assertions to make sure float is used...\n",
    "    assert type(tips) == float, \"Please use a float\"\n",
    "    amt_to_tip = bill * tips   # Created new variable (within function) that did the math required to find the tip\n",
    "    return amt_to_tip          # End of function; should return the specific tip amount \n",
    "    \n",
    "assert calculate_tip(25.0, .2) == 5.0 # assert tests\n",
    "assert calculate_tip(30.0, .1) == 3.0\n",
    "print(\"Exercise is correct\") # Copied this idea from the 101 exercises, so I had a visual output to make sure the function worked."
   ]
  },
  {
   "cell_type": "code",
   "execution_count": 335,
   "metadata": {},
   "outputs": [
    {
     "data": {
      "text/plain": [
       "3.0"
      ]
     },
     "execution_count": 335,
     "metadata": {},
     "output_type": "execute_result"
    }
   ],
   "source": [
    "calculate_tip(10.0, 0.3)"
   ]
  },
  {
   "cell_type": "code",
   "execution_count": 331,
   "metadata": {},
   "outputs": [
    {
     "name": "stdout",
     "output_type": "stream",
     "text": [
      "Exercise is correct\n"
     ]
    }
   ],
   "source": [
    "# Define a function named apply_discount. It should accept a original price, \n",
    "# and a discount percentage, and return the price after the discount is applied.\n",
    "\n",
    "def apply_discount(price, discount):\n",
    "    assert type(price) == int\n",
    "    assert type(discount) == float\n",
    "    discount_amt = price * discount\n",
    "    discount_applied = price - discount_amt\n",
    "    return discount_applied\n",
    "\n",
    "assert apply_discount(25, .2) == 20\n",
    "assert apply_discount(10, .1) == 9\n",
    "print(\"Exercise is correct\")"
   ]
  },
  {
   "cell_type": "code",
   "execution_count": 216,
   "metadata": {},
   "outputs": [
    {
     "name": "stdout",
     "output_type": "stream",
     "text": [
      "1000.0\n",
      "Exercise is correct\n"
     ]
    }
   ],
   "source": [
    "# Define a function named handle_commas. It should accept a string that is a number that contains\n",
    "# commas in it as input, and return a number as output.\n",
    "\n",
    "def handle_commas(c):\n",
    "    remove_commas = c.replace(\",\",\"\")\n",
    "    return float(remove_commas)\n",
    "\n",
    "print(handle_commas(\"1,000\"))\n",
    "    \n",
    "assert handle_commas(\"1,000\") == 1000\n",
    "assert handle_commas(\"2,000\") == 2000\n",
    "print(\"Exercise is correct\")"
   ]
  },
  {
   "cell_type": "code",
   "execution_count": 217,
   "metadata": {},
   "outputs": [
    {
     "ename": "IndentationError",
     "evalue": "unexpected indent (<ipython-input-217-1e9f2f0115d2>, line 5)",
     "output_type": "error",
     "traceback": [
      "\u001b[0;36m  File \u001b[0;32m\"<ipython-input-217-1e9f2f0115d2>\"\u001b[0;36m, line \u001b[0;32m5\u001b[0m\n\u001b[0;31m    assert x == int, \"Please use an integer, not a float or a string\"\u001b[0m\n\u001b[0m    ^\u001b[0m\n\u001b[0;31mIndentationError\u001b[0m\u001b[0;31m:\u001b[0m unexpected indent\n"
     ]
    }
   ],
   "source": [
    "assert get_letter_grade(85) == \"B\"\n",
    "assert get_letter_grade(99) == \"A\"\n",
    "print(\"Exercise is correct\")\n",
    "\n",
    "    assert x == int, \"Please use an integer, not a float or a string\""
   ]
  },
  {
   "cell_type": "code",
   "execution_count": 226,
   "metadata": {},
   "outputs": [
    {
     "name": "stdout",
     "output_type": "stream",
     "text": [
      "Exercise is correct\n"
     ]
    }
   ],
   "source": [
    "# Define a function named get_letter_grade. \n",
    "# It should accept a number and return the letter grade associated with that number (A-F).\n",
    "\n",
    "def get_letter_grade(x):\n",
    "    #  x = int(x) found it interesting that adding this would allow me to use \"80\" as the function input and it would successfully complete the function.\n",
    "    assert type(x) == int, \"Please use an integer, not a float or letters\"\n",
    "\n",
    "    if x >= 90:\n",
    "        return \"A\"\n",
    "    elif x >= 80:\n",
    "        return \"B\"\n",
    "    elif x >= 70:\n",
    "        return \"C\"\n",
    "    elif x >= 60:\n",
    "        return \"D\"\n",
    "    elif x < 60:\n",
    "        return \"F\"\n",
    "    else:\n",
    "        return \"Please use integers, not a float or a letters\"\n",
    "\n",
    "\n",
    "assert get_letter_grade(85) == \"B\"\n",
    "assert get_letter_grade(99) == \"A\"\n",
    "print(\"Exercise is correct\")"
   ]
  },
  {
   "cell_type": "code",
   "execution_count": 245,
   "metadata": {},
   "outputs": [
    {
     "name": "stdout",
     "output_type": "stream",
     "text": [
      "Exercise is correct\n"
     ]
    }
   ],
   "source": [
    "# Define a function named remove_vowels that accepts a string and returns a string with all the vowels removed.\n",
    "\n",
    "# Logic/breakdown of problem:\n",
    "    # intake string (make sure it is)\n",
    "    # convert to list (so I can iterate)\n",
    "    # iterate through checking for vowels\n",
    "    # create new list purged of vowels (for n in n NOT IN 'aeiou'? --> then return the new list?)\n",
    "    # finally, on the return line (or line above, needing extra code), convert back to string\n",
    "\n",
    "def remove_vowels(c):\n",
    "    assert type(c) == str, \"Please only enter a string.\"\n",
    "    no_vowel = c.lower()\n",
    "    vowels = (\"a\", \"e\", \"i\", \"o\", \"u\") # I realize this is a tuple, but I tested this using a list as got the same result. Figured using a tuple was (maybe) a bit safer since it's immutable.\n",
    "    for x in c.lower(): # This extra .lower() may not be needed now.\n",
    "        if x in vowels:\n",
    "            no_vowel = no_vowel.replace(x, \"\")\n",
    "    return no_vowel\n",
    "\n",
    "assert remove_vowels(\"banana\") == \"bnn\"\n",
    "assert remove_vowels(\"Apple\") == \"ppl\"\n",
    "assert remove_vowels(\"CodeUp\") == \"cdp\"\n",
    "print(\"Exercise is correct\")\n"
   ]
  },
  {
   "cell_type": "code",
   "execution_count": 380,
   "metadata": {},
   "outputs": [
    {
     "name": "stdout",
     "output_type": "stream",
     "text": [
      "Exercise is correct\n"
     ]
    }
   ],
   "source": [
    "# Define a function named normalize_name. It should accept a string and return a valid python identifier, \n",
    "# that is:\n",
    "#     anything that is not a valid python identifier should be removed\n",
    "#     leading and trailing whitespace should be removed\n",
    "#     everything should be lowercase\n",
    "#     spaces should be replaced with underscores\n",
    "#     for example:\n",
    "#         Name will become name\n",
    "#         First Name will become first_name\n",
    "#         % Completed will become completed\n",
    "\n",
    "def normalize_name(x):\n",
    "    valid_string = x.lstrip(\"0123456789 \")\n",
    "    valid_string = valid_string.lower()\n",
    "    valid_string = valid_string.replace(\" \",\"_\")\n",
    "\n",
    "    valid_strings = \"\"\n",
    "\n",
    "    for n in valid_string:\n",
    "        if n not in \"!@#$%^&*()+=-[]{}\\/|?.<>,`~\":\n",
    "            valid_strings += n\n",
    "    if valid_strings.isidentifier() == False:\n",
    "        print(\"this didn't trigger\")\n",
    "        return \"Error at isidentifier\"\n",
    "    return valid_strings\n",
    "\n",
    "assert normalize_name(\"Hello!\") == \"hello\"\n",
    "assert normalize_name(\"First Name\") == \"first_name\"\n",
    "print(\"Exercise is correct\")"
   ]
  },
  {
   "cell_type": "code",
   "execution_count": 383,
   "metadata": {},
   "outputs": [
    {
     "name": "stdout",
     "output_type": "stream",
     "text": [
      "Exercise is correct\n"
     ]
    }
   ],
   "source": [
    "# Define a function named normalize_name. It should accept a string and return a valid python identifier, \n",
    "# that is:\n",
    "#     anything that is not a valid python identifier should be removed\n",
    "#     leading and trailing whitespace should be removed\n",
    "#     everything should be lowercase\n",
    "#     spaces should be replaced with underscores\n",
    "#     for example:\n",
    "#         Name will become name\n",
    "#         First Name will become first_name\n",
    "#         % Completed will become completed\n",
    "\n",
    "def normalize_name(x):\n",
    "    valid_string = x.lstrip(\"0123456789 \")\n",
    "    valid_string = valid_string.lower()\n",
    "    valid_string = valid_string.replace(\" \",\"_\")\n",
    "\n",
    "    valid_strings = \"\"\n",
    "    for n in valid_string:\n",
    "        if n not in \"!@#$%^&*()+=-[]{}\\/|?.<>,`~\":\n",
    "            valid_strings += n        \n",
    "    final_string = \"\"\n",
    "    for c in valid_strings:\n",
    "        if valid_strings.isidentifier():\n",
    "            final_string += c\n",
    "    return final_string\n",
    "\n",
    "assert normalize_name(\"Hello!\") == \"hello\"\n",
    "assert normalize_name(\"First Name\") == \"first_name\"\n",
    "print(\"Exercise is correct\")"
   ]
  },
  {
   "cell_type": "code",
   "execution_count": 355,
   "metadata": {},
   "outputs": [
    {
     "data": {
      "text/plain": [
       "True"
      ]
     },
     "execution_count": 355,
     "metadata": {},
     "output_type": "execute_result"
    }
   ],
   "source": [
    "x = \"hello\"\n",
    "\n",
    "x.isidentifier()\n",
    "# x.iskeyword() What is this?\n"
   ]
  },
  {
   "cell_type": "code",
   "execution_count": 339,
   "metadata": {},
   "outputs": [
    {
     "name": "stdout",
     "output_type": "stream",
     "text": [
      "got it right\n"
     ]
    }
   ],
   "source": [
    "valid_strings = \"hello\"         \n",
    "  \n",
    "if valid_strings.isidentifier() == True:\n",
    "    print(\"got it right\")\n",
    "\n",
    "    \n",
    "    \n",
    "    #    valid_strings = final_test"
   ]
  },
  {
   "cell_type": "code",
   "execution_count": 6,
   "metadata": {},
   "outputs": [
    {
     "name": "stdout",
     "output_type": "stream",
     "text": [
      "Exercise is correct\n"
     ]
    }
   ],
   "source": [
    "# Write a function named cumulative_sum that accepts a list of numbers and returns a\n",
    "# list that is the cumulative sum of the numbers in the list.\n",
    "\n",
    "def cumulative_sum(x):\n",
    "    assert type(x) == list\n",
    "    cumulative_num = [sum(x[:i + 1]) for i in range(len(x))]\n",
    "    return cumulative_num\n",
    "\n",
    "assert cumulative_sum([1, 1, 1]) == [1, 2, 3]\n",
    "assert cumulative_sum([1, 2, 3, 4]) == [1, 3, 6, 10]\n",
    "assert cumulative_sum([]) == []\n",
    "print(\"Exercise is correct\")\n"
   ]
  },
  {
   "cell_type": "markdown",
   "metadata": {},
   "source": [
    "### Bonus Questions\n",
    "- 1. Create a function named twelveto24. It should accept a string in the format 10:45am or 4:30pm and return a string that is the representation of the time in a 24-hour format. Bonus write a function that does the opposite."
   ]
  },
  {
   "cell_type": "code",
   "execution_count": 1,
   "metadata": {},
   "outputs": [],
   "source": [
    "# Two ways I'm thinking I can do this:\n",
    "# 1. I can import the datetime module. Figure it out that way\n",
    "# 2. Or, I can do it backwards; figure out what the function that converts from military time to 12 hours works\n",
    "# and then that'll be the reverse for the main bonus question.\n",
    "\n",
    "# Steps:\n",
    "    # Isolate the \"am\" and \"pm\". check\n",
    "    # create a variable or list(?) that allocates the time based on if it's am/pm. Use > and <??\n",
    "    # do an if/elif statement that converts the time based on am/pm.\n",
    "    # Return the military time once converted.\n",
    "\n",
    "# update"
   ]
  },
  {
   "cell_type": "code",
   "execution_count": 604,
   "metadata": {},
   "outputs": [
    {
     "name": "stdout",
     "output_type": "stream",
     "text": [
      "Exercise is correct\n"
     ]
    }
   ],
   "source": [
    "# I figured out how to do this problem using the datetime module, but I wanted to try solving it using string manipulation.\n",
    "\n",
    "import datetime\n",
    "\n",
    "def twelveto24(time = datetime.datetime.now().time().strftime(\"%I:%M%p\")):\n",
    "    assert type(time) == str, \"Please enter a string in this format: 'HH:MMPM'\"\n",
    "    assert time[2] == \":\", \"Please enter a string in this format: 'HH:MMPM'\"\n",
    "    if time[-2:].lower() == \"am\":\n",
    "        morning_check = time[:2]\n",
    "        morning_check += \":\" + time[3:5]\n",
    "        final_time = morning_check\n",
    "    else:\n",
    "        afternoon_check = int(time[:2])\n",
    "        afternoon_check = str(afternoon_check + 12)\n",
    "        afternoon_check += \":\" + time[3:5]\n",
    "        final_time = afternoon_check\n",
    "    return final_time\n",
    "\n",
    "assert twelveto24(\"08:24AM\") == \"08:24\"\n",
    "assert twelveto24(\"10:12PM\") == \"22:12\"\n",
    "print(\"Exercise is correct\")"
   ]
  },
  {
   "cell_type": "code",
   "execution_count": 631,
   "metadata": {},
   "outputs": [
    {
     "data": {
      "text/plain": [
       "'21:57'"
      ]
     },
     "execution_count": 631,
     "metadata": {},
     "output_type": "execute_result"
    }
   ],
   "source": [
    "twelveto24()"
   ]
  },
  {
   "cell_type": "code",
   "execution_count": 629,
   "metadata": {},
   "outputs": [],
   "source": [
    "# Bonus write a function that does the opposite.\n",
    "\n",
    "import datetime\n",
    "\n",
    "def twentyfourto12(time = datetime.datetime.now().time().strftime(\"%H:%M\")):\n",
    "    assert type(time) == str, \"Please enter a string in this format: 'HH:MM'\"\n",
    "    assert time[2] == \":\", \"Please enter a string in this format: 'HH:MM'\"\n",
    "    if int(time[:2]) < 12:\n",
    "        morning_twelve_check = time + \" AM\"\n",
    "        final_time = morning_twelve_check\n",
    "    else:\n",
    "        afternoon_twelve_check = int(time[:2])\n",
    "        afternoon_twelve_check = str(afternoon_twelve_check - 12)\n",
    "        afternoon_twelve_check += \":\" + time[3:5] + \" PM\"\n",
    "        final_time = afternoon_twelve_check\n",
    "    return final_time\n",
    "    "
   ]
  },
  {
   "cell_type": "code",
   "execution_count": 630,
   "metadata": {},
   "outputs": [
    {
     "data": {
      "text/plain": [
       "'1:45 PM'"
      ]
     },
     "execution_count": 630,
     "metadata": {},
     "output_type": "execute_result"
    }
   ],
   "source": [
    "twentyfourto12(\"13:45\")"
   ]
  },
  {
   "cell_type": "code",
   "execution_count": null,
   "metadata": {},
   "outputs": [],
   "source": [
    "def twelveto24_dt(x):\n",
    "    "
   ]
  },
  {
   "cell_type": "code",
   "execution_count": 8,
   "metadata": {},
   "outputs": [],
   "source": [
    "import datetime"
   ]
  },
  {
   "cell_type": "code",
   "execution_count": 9,
   "metadata": {},
   "outputs": [],
   "source": [
    "import datetime\n",
    "\n",
    "time_check = \"4:30pm\"\n",
    "\n"
   ]
  },
  {
   "cell_type": "code",
   "execution_count": null,
   "metadata": {},
   "outputs": [],
   "source": []
  },
  {
   "cell_type": "code",
   "execution_count": null,
   "metadata": {},
   "outputs": [],
   "source": []
  },
  {
   "cell_type": "markdown",
   "metadata": {},
   "source": [
    "- Create a function named col_index. It should accept a spreadsheet column name, and return the index number of the column.\n",
    "    - col_index('A') returns 1\n",
    "    - col_index('B') returns 2\n",
    "    - col_index('AA') returns 27"
   ]
  },
  {
   "cell_type": "code",
   "execution_count": null,
   "metadata": {},
   "outputs": [],
   "source": [
    "letter_dict = {\"A\" = 1, \"B\" = 2, \"C\" = 3, \"D\" = 4, \"E\" = 5, \"F\" = 6, \"G\" = 7, \"H\" = 8, \"I\" = 9,\"I\" = 9,}"
   ]
  },
  {
   "cell_type": "code",
   "execution_count": 6,
   "metadata": {},
   "outputs": [],
   "source": [
    "alphabet_dicts_2 = {'a': 1, 'c': 3, 'b': 2, 'e': 5, 'd': 4, 'g': 7, 'f': 6, 'i': 9, 'h': 8, 'k': 11, 'j': 10, 'm': 13, 'l': 12, 'o': 15, 'n': 14, 'q': 17, 'p': 16, 's': 19, 'r': 18, 'u': 21, 't': 20, 'w': 23, 'v': 22, 'y': 25, 'x': 24, 'z': 26}"
   ]
  },
  {
   "cell_type": "code",
   "execution_count": 5,
   "metadata": {},
   "outputs": [
    {
     "ename": "AttributeError",
     "evalue": "'dict' object has no attribute 'upper'",
     "output_type": "error",
     "traceback": [
      "\u001b[0;31m---------------------------------------------------------------------------\u001b[0m",
      "\u001b[0;31mAttributeError\u001b[0m                            Traceback (most recent call last)",
      "\u001b[0;32m<ipython-input-5-66202a0b506c>\u001b[0m in \u001b[0;36m<module>\u001b[0;34m\u001b[0m\n\u001b[0;32m----> 1\u001b[0;31m \u001b[0malphabet_ups\u001b[0m\u001b[0;34m.\u001b[0m\u001b[0mupper\u001b[0m\u001b[0;34m(\u001b[0m\u001b[0;34m)\u001b[0m\u001b[0;34m\u001b[0m\u001b[0;34m\u001b[0m\u001b[0m\n\u001b[0m",
      "\u001b[0;31mAttributeError\u001b[0m: 'dict' object has no attribute 'upper'"
     ]
    }
   ],
   "source": [
    "def col_index(column):\n",
    "    "
   ]
  },
  {
   "cell_type": "code",
   "execution_count": 15,
   "metadata": {},
   "outputs": [
    {
     "data": {
      "text/plain": [
       "703"
      ]
     },
     "execution_count": 15,
     "metadata": {},
     "output_type": "execute_result"
    }
   ],
   "source": [
    "def col_index(col_name):\n",
    "    alphabet_dict = {\"A\": 1, \"B\": 2, \"C\": 3, \"D\": 4, \"E\": 5, \"F\": 6, \"G\": 7, \"H\": 8, \"I\": 9, \"J\": 10, \"K\": 11, \"L\": 12, \"M\": 13, \"N\":14, \"O\": 15, \"P\": 16, \"Q\": 17, \"R\": 18, \"S\": 19, \"T\": 20, \"U\": 21, \"V\": 22, \"W\": 23, \"X\": 24, \"Y\": 25, \"Z\": 26}\n",
    "    column_num = 0\n",
    "    for index in range(-1, -(len(col_name)+1), -1):\n",
    "        column_num += alphabet_dict[(col_name[index])] * (26 ** -(index + 1))\n",
    "    return column_num\n",
    "col_index(\"AAA\")\n",
    "    "
   ]
  },
  {
   "cell_type": "code",
   "execution_count": 17,
   "metadata": {},
   "outputs": [
    {
     "data": {
      "text/plain": [
       "3"
      ]
     },
     "execution_count": 17,
     "metadata": {},
     "output_type": "execute_result"
    }
   ],
   "source": [
    "alphabet_dict = {\"A\": 1, \"B\": 2, \"C\": 3, \"D\": 4, \"E\": 5, \"F\": 6, \"G\": 7, \"H\": 8, \"I\": 9, \"J\": 10, \"K\": 11, \"L\": 12, \"M\": 13, \"N\":14, \"O\": 15, \"P\": 16, \"Q\": 17, \"R\": 18, \"S\": 19, \"T\": 20, \"U\": 21, \"V\": 22, \"W\": 23, \"X\": 24, \"Y\": 25, \"Z\": 26}\n",
    "\n",
    "\n",
    "\n",
    "column_num_test = alphabet_dict[\"A\"] + alphabet_dict[\"B\"]\n",
    "column_num_test\n"
   ]
  },
  {
   "cell_type": "code",
   "execution_count": null,
   "metadata": {},
   "outputs": [],
   "source": [
    " "
   ]
  }
 ],
 "metadata": {
  "kernelspec": {
   "display_name": "Python 3",
   "language": "python",
   "name": "python3"
  },
  "language_info": {
   "codemirror_mode": {
    "name": "ipython",
    "version": 3
   },
   "file_extension": ".py",
   "mimetype": "text/x-python",
   "name": "python",
   "nbconvert_exporter": "python",
   "pygments_lexer": "ipython3",
   "version": "3.7.6"
  }
 },
 "nbformat": 4,
 "nbformat_minor": 4
}
